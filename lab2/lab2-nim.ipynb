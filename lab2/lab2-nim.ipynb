{
 "cells": [
  {
   "cell_type": "markdown",
   "metadata": {
    "pycharm": {
     "name": "#%% md\n"
    }
   },
   "source": [
    "Copyright **`(c)`** 2023 Ivan Magistro Contenta `<s314356@studenti.polito.it>`  \n",
    "[`https://github.com/ivanmag22/computational-intelligence`](https://github.com/ivanmag22/computational-intelligence)\n"
   ]
  },
  {
   "cell_type": "markdown",
   "metadata": {
    "pycharm": {
     "name": "#%%\n"
    }
   },
   "source": [
    "# Lab 2: ES\n",
    "\n",
    "## Task\n",
    "\n",
    "Write agents able to play [*Nim*](https://en.wikipedia.org/wiki/Nim), with an arbitrary number of rows and an upper bound $k$ on the number of objects that can be removed in a turn (a.k.a., *subtraction game*).\n",
    "\n",
    "The goal of the game is to **avoid** taking the last object.\n",
    "\n",
    "* Task2.1: An agent using fixed rules based on *nim-sum* (i.e., an *expert system*)\n",
    "* Task2.2: An agent using evolved rules using ES\n",
    "\n",
    "## Instructions\n",
    "\n",
    "* Create the directory `lab2` inside your personal course repository for the course \n",
    "* Put a `README.md` and your solution (all the files, code and auxiliary data if needed)\n",
    "\n",
    "## Notes\n",
    "\n",
    "* Working in group is not only allowed, but recommended (see: [Ubuntu](https://en.wikipedia.org/wiki/Ubuntu_philosophy) and [Cooperative Learning](https://files.eric.ed.gov/fulltext/EJ1096789.pdf)). Collaborations must be explicitly declared in the `README.md`.\n",
    "* [Yanking](https://www.emacswiki.org/emacs/KillingAndYanking) from the internet is allowed, but sources must be explicitly declared in the `README.md`.\n",
    "\n"
   ]
  },
  {
   "cell_type": "code",
   "execution_count": 980,
   "metadata": {},
   "outputs": [],
   "source": [
    "import logging\n",
    "from pprint import pprint, pformat\n",
    "from collections import namedtuple\n",
    "import random\n",
    "from copy import deepcopy\n"
   ]
  },
  {
   "cell_type": "markdown",
   "metadata": {},
   "source": [
    "## The *Nim* and *Nimply* classes"
   ]
  },
  {
   "cell_type": "code",
   "execution_count": 981,
   "metadata": {},
   "outputs": [],
   "source": [
    "Nimply = namedtuple(\"Nimply\", \"row, num_objects\")\n"
   ]
  },
  {
   "cell_type": "code",
   "execution_count": 982,
   "metadata": {},
   "outputs": [],
   "source": [
    "class Nim:\n",
    "    def __init__(self, num_rows: int, k: int = None) -> None:\n",
    "        self._rows = [i * 2 + 1 for i in range(num_rows)]\n",
    "        self._k = k\n",
    "\n",
    "    def __bool__(self):\n",
    "        return sum(self._rows) > 0\n",
    "\n",
    "    def __str__(self):\n",
    "        return \"<\" + \" \".join(str(_) for _ in self._rows) + \">\"\n",
    "    \n",
    "    def __len__(self):\n",
    "        return len(self._rows)\n",
    "\n",
    "    @property\n",
    "    def rows(self) -> tuple:\n",
    "        return tuple(self._rows)\n",
    "\n",
    "    def nimming(self, ply: Nimply) -> None:\n",
    "        row, num_objects = ply\n",
    "        assert self._rows[row] >= num_objects\n",
    "        assert self._k is None or num_objects <= self._k\n",
    "        self._rows[row] -= num_objects\n"
   ]
  },
  {
   "cell_type": "markdown",
   "metadata": {},
   "source": [
    "## Sample (and silly) startegies "
   ]
  },
  {
   "cell_type": "code",
   "execution_count": 983,
   "metadata": {},
   "outputs": [],
   "source": [
    "def pure_random(state: Nim) -> Nimply:\n",
    "    \"\"\"A completely random move\"\"\"\n",
    "    row = random.choice([r for r, c in enumerate(state.rows) if c > 0])\n",
    "    num_objects = random.randint(1, state.rows[row])\n",
    "    return Nimply(row, num_objects)\n"
   ]
  },
  {
   "cell_type": "code",
   "execution_count": 984,
   "metadata": {},
   "outputs": [],
   "source": [
    "def gabriele(state: Nim) -> Nimply:\n",
    "    \"\"\"Pick always the maximum possible number of the lowest row\"\"\"\n",
    "    possible_moves = [(r, o) for r, c in enumerate(state.rows) for o in range(1, c + 1)]\n",
    "    return Nimply(*max(possible_moves, key=lambda m: (-m[0], m[1])))\n"
   ]
  },
  {
   "cell_type": "code",
   "execution_count": 985,
   "metadata": {},
   "outputs": [],
   "source": [
    "def adaptive(state: Nim) -> Nimply:\n",
    "    \"\"\"A strategy that can adapt its parameters\"\"\"\n",
    "    genome = {\"love_small\": 0.5}\n"
   ]
  },
  {
   "cell_type": "code",
   "execution_count": 986,
   "metadata": {},
   "outputs": [],
   "source": [
    "import numpy as np\n",
    "\n",
    "\n",
    "def nim_sum(state: Nim) -> int:\n",
    "    tmp = np.array([tuple(int(x) for x in f\"{c:032b}\") for c in state.rows])\n",
    "    xor = tmp.sum(axis=0) % 2\n",
    "    return int(\"\".join(str(_) for _ in xor), base=2)\n",
    "\n",
    "\n",
    "def analize(raw: Nim) -> dict:\n",
    "    cooked = dict()\n",
    "    cooked[\"possible_moves\"] = dict()\n",
    "    for ply in (Nimply(r, o) for r, c in enumerate(raw.rows) for o in range(1, c + 1)):\n",
    "        tmp = deepcopy(raw)\n",
    "        tmp.nimming(ply)\n",
    "        cooked[\"possible_moves\"][ply] = nim_sum(tmp)\n",
    "    return cooked\n",
    "\n",
    "\n",
    "def optimal(state: Nim) -> Nimply:\n",
    "    analysis = analize(state)\n",
    "    logging.debug(f\"analysis:\\n{pformat(analysis)}\")\n",
    "    spicy_moves = [ply for ply, ns in analysis[\"possible_moves\"].items() if ns != 0]\n",
    "    if not spicy_moves:\n",
    "        spicy_moves = list(analysis[\"possible_moves\"].keys())\n",
    "    ply = random.choice(spicy_moves)\n",
    "    return ply\n"
   ]
  },
  {
   "cell_type": "markdown",
   "metadata": {},
   "source": [
    "## Evolutionary Strategies"
   ]
  },
  {
   "cell_type": "code",
   "execution_count": 987,
   "metadata": {},
   "outputs": [],
   "source": [
    "N_RULES = 4\n",
    "\n",
    "def r0(state: Nim) -> Nimply:   # it takes only objects from even rows (0,2,4,...)\n",
    "    rows = list(state.rows)\n",
    "\n",
    "    move = Nimply(0, 0)\n",
    "    for j in [i for i in range(state.__len__()) if i%2==0]:\n",
    "        if rows[j] > 0:\n",
    "            if (state._k is not None and rows[j] <= state._k) or state._k is None:\n",
    "                move = Nimply(j, rows[j])\n",
    "            elif rows[j] > state._k and state._k is not None:\n",
    "                move = Nimply(j, state._k)\n",
    "            break\n",
    "\n",
    "    return move\n",
    "\n",
    "def r1(state: Nim) -> Nimply:   # it takes all the objects of a whole row (no one object has been taken and the number of objects is less or equal to k, if it is fixed)\n",
    "    rows = list(state.rows)\n",
    "\n",
    "    move = Nimply(0, 0)\n",
    "    for i in range(state.__len__()):\n",
    "        if (state._k is not None and state._k <= i*2+1) or state._k is None:\n",
    "            if rows[i] == i*2+1:\n",
    "                move = Nimply(i, i*2+1)\n",
    "                break\n",
    "        else:\n",
    "            break\n",
    "\n",
    "    return move\n",
    "\n",
    "def r2(state: Nim) -> Nimply:   # it takes only one object from a row\n",
    "    rows = list(enumerate(list(state.rows)))    # it stores the correspondence between the actual row and its number of available objects\n",
    "    random.shuffle(rows)    # it shuffles the rows in order to pick one object randomly from a row, but we maintain the information of the actual row\n",
    "\n",
    "    move = Nimply(0, 0)\n",
    "    for i in range(state.__len__()):\n",
    "        if rows[i][1] > 0:\n",
    "            move = Nimply(rows[i][0], 1)\n",
    "            break\n",
    "\n",
    "    return move\n",
    "\n",
    "def r3(state: Nim) -> Nimply:   # it takes objects from the last available row\n",
    "    rows = list(state.rows)\n",
    "\n",
    "    move = Nimply(0, 0)\n",
    "    for i in [state.__len__()-j-1 for j in range(state.__len__())]:\n",
    "        if (state._k is not None and state._k <= i*2+1) or state._k is None:\n",
    "            if rows[i] > 0:\n",
    "                if rows[i] > 1:\n",
    "                    move = Nimply(i, random.randint(1, rows[i]))\n",
    "                else:\n",
    "                    move = Nimply(i, 1)\n",
    "                break\n",
    "        else:\n",
    "            break\n",
    "\n",
    "    return move"
   ]
  },
  {
   "cell_type": "code",
   "execution_count": 988,
   "metadata": {},
   "outputs": [],
   "source": [
    "# Class to change the weight of each rule and to memorize the accuracy\n",
    "class NimGame:\n",
    "    def __init__(self, weights: list[float]) -> None:\n",
    "        self._weights = weights\n",
    "        self._dict = {\n",
    "            0: r0,\n",
    "            1: r1,\n",
    "            2: r2,\n",
    "            3: r3,\n",
    "        }\n",
    "        self._acc = 0\n",
    "\n",
    "    def __len__(self) -> int:\n",
    "        return len(self._weights)\n",
    "\n",
    "    def get_rule_by_index(self, index: int):\n",
    "        assert index>=0 and index<self.__len__()\n",
    "        return self._dict[index]\n",
    "\n",
    "    def get_weights(self) -> list[float]:\n",
    "        return self._weights\n",
    "    \n",
    "    def get_accuracy(self) -> float:\n",
    "        return self._acc\n",
    "    \n",
    "    def set_accuracy(self, acc: float) -> None:\n",
    "        self._acc = acc\n"
   ]
  },
  {
   "cell_type": "code",
   "execution_count": 989,
   "metadata": {},
   "outputs": [],
   "source": [
    "def fitness(game: NimGame):\n",
    "    return game.get_accuracy()"
   ]
  },
  {
   "cell_type": "code",
   "execution_count": 990,
   "metadata": {},
   "outputs": [],
   "source": [
    "def mutation(state: NimGame, λ: int, σ: float):   # it changes the weights\n",
    "    offsprings = []\n",
    "    for _ in range(λ):\n",
    "        new_state = deepcopy(state) # NimGame object\n",
    "        ll = new_state.__len__()\n",
    "\n",
    "        weights = np.random.normal(loc=0, scale=σ, size=(ll)) + new_state.get_weights()\n",
    "        weights = weights / sum(weights)    # in order that the sum of the weights is always 1.0 (sum of the probabilities should be 1)\n",
    "\n",
    "        offsprings.append(NimGame(weights))\n",
    "    \n",
    "    return offsprings"
   ]
  },
  {
   "cell_type": "code",
   "execution_count": 991,
   "metadata": {},
   "outputs": [],
   "source": [
    "def es_wrapper(evol: NimGame):  # wrapper that initialites the weighted player\n",
    "    weights = evol.get_weights()\n",
    "\n",
    "    def weighted(state: Nim) -> Nimply:  # player with weighted strategy: at each step it picks the \"heaviest\" move (if it is activated)\n",
    "        \n",
    "        values = []\n",
    "        moves = []\n",
    "        for i in range(evol.__len__()):\n",
    "            new_state = deepcopy(state)\n",
    "            rule = evol.get_rule_by_index(i)\n",
    "            move = rule(new_state)\n",
    "            moves.append(move)\n",
    "            if move == Nimply(0, 0):\n",
    "                values.append(0)\n",
    "            else:\n",
    "                values.append(1)\n",
    "\n",
    "        choice = 0\n",
    "        best = 0\n",
    "        for i in range(evol.__len__()):\n",
    "            if weights[i] * values[i] > best:\n",
    "                best = weights[i] * values[i]\n",
    "                choice = i\n",
    "            elif weights[i] * values[i] == best:\n",
    "                choice = random.choice([i, choice])\n",
    "        return moves[choice]\n",
    "    \n",
    "    return weighted"
   ]
  },
  {
   "cell_type": "code",
   "execution_count": 992,
   "metadata": {},
   "outputs": [],
   "source": [
    "N_GAMES = 30\n",
    "\n",
    "def play_games(state: Nim, games: list[NimGame]) -> float:\n",
    "    acc = 0\n",
    "\n",
    "    for game in games:\n",
    "        challenger = es_wrapper(game)\n",
    "        opponent = [pure_random, gabriele, optimal]\n",
    "\n",
    "        for x in opponent:  # total number of matches: #opponents * N_GAMES\n",
    "            strategy = (challenger, x)\n",
    "            wins = 0\n",
    "\n",
    "            for _ in range(N_GAMES):    # N_GAMES against each opponent\n",
    "                new_state = deepcopy(state)\n",
    "                player = 0\n",
    "                while new_state:\n",
    "                    ply = strategy[player](new_state)\n",
    "                    new_state.nimming(ply)\n",
    "                    player = 1 - player\n",
    "                if player == 0:\n",
    "                    wins += 1\n",
    "        \n",
    "            acc += (wins/N_GAMES)/3\n",
    "\n",
    "        game.set_accuracy(acc)\n",
    "        \n",
    "        acc = 0\n",
    "\n",
    "    return"
   ]
  },
  {
   "cell_type": "code",
   "execution_count": 993,
   "metadata": {},
   "outputs": [],
   "source": [
    "N_GAMES = 90\n",
    "\n",
    "def play_games_with_optimal(state: Nim, games: list[NimGame]) -> float:\n",
    "    acc = 0\n",
    "\n",
    "    for game in games:\n",
    "        challenger = es_wrapper(game)\n",
    "        opponent = optimal\n",
    "\n",
    "        strategy = (challenger, opponent)\n",
    "        wins = 0\n",
    "\n",
    "        for _ in range(N_GAMES):    # N_GAMES against each opponent\n",
    "            new_state = deepcopy(state)\n",
    "            player = 0\n",
    "            while new_state:\n",
    "                ply = strategy[player](new_state)\n",
    "                new_state.nimming(ply)\n",
    "                player = 1 - player\n",
    "            if player == 0:\n",
    "                wins += 1\n",
    "        \n",
    "        acc += (wins/N_GAMES)\n",
    "\n",
    "        game.set_accuracy(acc)\n",
    "\n",
    "    return"
   ]
  },
  {
   "cell_type": "code",
   "execution_count": 994,
   "metadata": {},
   "outputs": [],
   "source": [
    "play = play_games"
   ]
  },
  {
   "cell_type": "markdown",
   "metadata": {},
   "source": [
    "# (1 + λ)-ES"
   ]
  },
  {
   "cell_type": "code",
   "execution_count": 995,
   "metadata": {},
   "outputs": [],
   "source": [
    "def evolutionary_plus(state: Nim) -> NimGame:\n",
    "    λ = 20\n",
    "    sigma = 0.001\n",
    "    \n",
    "    solution = NimGame([1/N_RULES for _ in range(N_RULES)]) # I have to put a list of probability as parameter\n",
    "    best_so_far = deepcopy(solution)\n",
    "\n",
    "    stats = [0, 0]\n",
    "    for step in range(100 // λ):\n",
    "        offspring = [ best_so_far ] # we are searching individuals around the best one\n",
    "\n",
    "        play(state, [ solution ])   # parent's fitness\n",
    "\n",
    "        offspring = offspring + mutation(solution, λ, sigma)\n",
    "        \n",
    "        # evaluate and select best\n",
    "        evals = []\n",
    "        play(state, offspring)\n",
    "        for x in offspring:\n",
    "            evals.append(fitness(x))\n",
    "\n",
    "        # rule one-out-of-five: to modify mutation step\n",
    "        stats[0] += λ\n",
    "        stats[1] += sum(x > fitness(solution) for x in evals)\n",
    "        if (step + 1) % 200 == 0:\n",
    "            if stats[0] / stats[1] < 1 / 5:\n",
    "                sigma /= 1.1\n",
    "            elif stats[0] / stats[1] > 1 / 5:\n",
    "                sigma *= 1.1\n",
    "            stats = [0, 0]\n",
    "\n",
    "        solution = offspring[np.argmax(evals)]\n",
    "        if fitness(best_so_far) < fitness(solution):\n",
    "            best_so_far = deepcopy(solution)\n",
    "    \n",
    "    return best_so_far"
   ]
  },
  {
   "cell_type": "markdown",
   "metadata": {},
   "source": [
    "# (1, λ)-ES"
   ]
  },
  {
   "cell_type": "code",
   "execution_count": 996,
   "metadata": {},
   "outputs": [],
   "source": [
    "def evolutionary_comma(state: Nim) -> NimGame:\n",
    "    λ = 20\n",
    "    sigma = 0.001\n",
    "    \n",
    "    solution = NimGame([1/N_RULES for _ in range(N_RULES)]) # I have to put a list of probability as parameter\n",
    "    best_so_far = deepcopy(solution)\n",
    "\n",
    "    stats = [0, 0]\n",
    "    for step in range(1_000 // λ):\n",
    "        offspring = [ ]\n",
    "\n",
    "        play(state, [ solution ])   # parent's fitness  # TO REVIEW\n",
    "\n",
    "        offspring = offspring + mutation(solution, λ, sigma)\n",
    "        \n",
    "        # evaluate and select best\n",
    "        evals = []\n",
    "        play(state, offspring)\n",
    "        for x in offspring:\n",
    "            evals.append(fitness(x)) \n",
    "\n",
    "        # rule one-out-of-five: to modify mutation step\n",
    "        stats[0] += λ\n",
    "        stats[1] += sum(x > fitness(solution) for x in evals)\n",
    "        if (step + 1) % 200 == 0:\n",
    "            if stats[0] / stats[1] < 1 / 5:\n",
    "                sigma /= 1.1\n",
    "            elif stats[0] / stats[1] > 1 / 5:\n",
    "                sigma *= 1.1\n",
    "            stats = [0, 0]\n",
    "\n",
    "        solution = offspring[np.argmax(evals)]\n",
    "        if fitness(best_so_far) < fitness(solution):\n",
    "            best_so_far = deepcopy(solution)\n",
    "    \n",
    "    return best_so_far"
   ]
  },
  {
   "cell_type": "markdown",
   "metadata": {},
   "source": [
    "# (μ + λ)-ES"
   ]
  },
  {
   "cell_type": "code",
   "execution_count": 997,
   "metadata": {},
   "outputs": [],
   "source": [
    "def evolutionary_plus_mu(state: Nim) -> NimGame:\n",
    "    λ = 20\n",
    "    μ = 5\n",
    "    sigma = 0.001\n",
    "    \n",
    "    solution = NimGame([1/N_RULES for _ in range(N_RULES)]) # I have to put a list of probability as parameter\n",
    "    best_so_far = deepcopy(solution)\n",
    "\n",
    "    parents = mutation(solution, μ, sigma)\n",
    "\n",
    "    stats = [0, 0]\n",
    "    for step in range(1_000 // λ):\n",
    "        offspring = parents\n",
    "\n",
    "        play(state, parents)   # parent's fitness\n",
    "\n",
    "        offspring = offspring + mutation(solution, λ, sigma)    # μ + λ\n",
    "        \n",
    "        # evaluate and select best\n",
    "        evals = []\n",
    "        play(state, offspring)\n",
    "        for x in offspring:\n",
    "            evals.append(fitness(x))\n",
    "\n",
    "        # rule one-out-of-five: to modify mutation step\n",
    "        stats[0] += λ\n",
    "        stats[1] += sum(x > fitness(parents[i]) for x in evals for i in range(len(parents)))\n",
    "        if (step + 1) % 200 == 0:\n",
    "            if stats[0] / stats[1] < 1 / 5:\n",
    "                sigma /= 1.1\n",
    "            elif stats[0] / stats[1] > 1 / 5:\n",
    "                sigma *= 1.1\n",
    "            stats = [0, 0]\n",
    "\n",
    "        solution = offspring[np.argmax(evals)]\n",
    "        if fitness(best_so_far) < fitness(solution):\n",
    "            best_so_far = deepcopy(solution)\n",
    "        \n",
    "        # parents of the next generation: some of them will be the best and the other(s) is (are) one (a few) from the worsts\n",
    "        offspring.sort(reverse=True, key=fitness)\n",
    "        split = [ offspring[:len(offspring)//5], offspring[len(offspring)//5:]]\n",
    "        parents = random.sample(split[0], μ*4//5) + random.sample(split[1], μ//5)\n",
    "    \n",
    "    return best_so_far"
   ]
  },
  {
   "cell_type": "markdown",
   "metadata": {},
   "source": [
    "# (μ, λ)-ES"
   ]
  },
  {
   "cell_type": "code",
   "execution_count": 998,
   "metadata": {},
   "outputs": [],
   "source": [
    "def evolutionary_comma_mu(state: Nim) -> NimGame:\n",
    "    λ = 20\n",
    "    μ = 5\n",
    "    sigma = 0.001\n",
    "    \n",
    "    solution = NimGame([1/N_RULES for _ in range(N_RULES)]) # I have to put a list of probability as parameter\n",
    "    best_so_far = deepcopy(solution)\n",
    "\n",
    "    parents = mutation(solution, μ, sigma)\n",
    "\n",
    "    stats = [0, 0]\n",
    "    for step in range(1_000 // λ):\n",
    "\n",
    "        play(state, parents)   # parent's fitness\n",
    "\n",
    "        offspring = mutation(solution, λ, sigma)    # λ\n",
    "        \n",
    "        # evaluate and select best\n",
    "        evals = []\n",
    "        play(state, offspring)\n",
    "        for x in offspring:\n",
    "            evals.append(fitness(x))\n",
    "\n",
    "        # rule one-out-of-five: to modify mutation step\n",
    "        stats[0] += λ\n",
    "        stats[1] += sum(x > fitness(parents[i]) for x in evals for i in range(len(parents)))\n",
    "        if (step + 1) % 200 == 0:\n",
    "            if stats[0] / stats[1] < 1 / 5:\n",
    "                sigma /= 1.1\n",
    "            elif stats[0] / stats[1] > 1 / 5:\n",
    "                sigma *= 1.1\n",
    "            stats = [0, 0]\n",
    "\n",
    "        solution = offspring[np.argmax(evals)]\n",
    "        if fitness(best_so_far) < fitness(solution):\n",
    "            best_so_far = deepcopy(solution)\n",
    "        \n",
    "        # parents of the next generation: some of them will be the best and the other(s) is (are) one (a few) from the worsts\n",
    "        offspring.sort(reverse=True, key=fitness)\n",
    "        split = [ offspring[:len(offspring)//5], offspring[len(offspring)//5:]]\n",
    "        parents = random.sample(split[0], μ*4//5) + random.sample(split[1], μ//5)\n",
    "    \n",
    "    return best_so_far"
   ]
  },
  {
   "cell_type": "markdown",
   "metadata": {},
   "source": [
    "## Oversimplified match"
   ]
  },
  {
   "cell_type": "code",
   "execution_count": 999,
   "metadata": {},
   "outputs": [
    {
     "name": "stdout",
     "output_type": "stream",
     "text": [
      "ES-accuracy:  0.6851851851851852\n",
      "ES-weights:  [0.24261805 0.25146089 0.25902933 0.24689174]\n",
      "Accuracy with optimal opponent:  0.9888888888888889\n"
     ]
    }
   ],
   "source": [
    "logging.getLogger().setLevel(logging.INFO)\n",
    "\n",
    "nim = Nim(5)\n",
    "\n",
    "evolutionary = evolutionary_comma_mu # evolutionary_plus, evolutionary_comma, evolutionary_plus_mu, evolutionary_comma_mu\n",
    "\n",
    "es_game = evolutionary(nim)\n",
    "print(\"ES-accuracy: \", es_game.get_accuracy())\n",
    "print(\"ES-weights: \", es_game.get_weights())\n",
    "es_player = es_wrapper(es_game)\n",
    "players = [es_player, optimal]\n",
    "\n",
    "x = 0\n",
    "wins = 0\n",
    "for _ in range(N_GAMES):\n",
    "    strategy = (players[x], players[1-x])   # one time es_player plays as the first, the successive time as the second, and so on\n",
    "    player = 0\n",
    "    while nim:\n",
    "        ply = strategy[player](nim)\n",
    "        nim.nimming(ply)\n",
    "        player = 1 - player\n",
    "    if players[player] is es_player:\n",
    "        wins += 1\n",
    "    if x == 0:\n",
    "        x = 1\n",
    "    else:\n",
    "        x = 0\n",
    "    \n",
    "print(\"Accuracy with optimal opponent: \", wins/N_GAMES)\n"
   ]
  }
 ],
 "metadata": {
  "kernelspec": {
   "display_name": "Python 3.10.7 ('ci22-dPIXJ0_o-py3.10')",
   "language": "python",
   "name": "python3"
  },
  "language_info": {
   "codemirror_mode": {
    "name": "ipython",
    "version": 3
   },
   "file_extension": ".py",
   "mimetype": "text/x-python",
   "name": "python",
   "nbconvert_exporter": "python",
   "pygments_lexer": "ipython3",
   "version": "3.11.0"
  },
  "vscode": {
   "interpreter": {
    "hash": "10197e8e2f2aa67e2c349105091c77f4cd384fce4877865f002d9ec653f96bc0"
   }
  }
 },
 "nbformat": 4,
 "nbformat_minor": 2
}
