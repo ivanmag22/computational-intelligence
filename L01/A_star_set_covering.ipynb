{
 "cells": [
  {
   "cell_type": "markdown",
   "metadata": {},
   "source": [
    "Copyright (c) 2023 Ivan Magistro Contenta, Matteo Pietro Pillitteri and Francesca Zafonte (<s314356@studenti.polito.it> , <s314404@studenti.polito.it>, <s319331@studenti.polito.it>)\n",
    "https://github.com/ivanmag22/computational-intelligence\n",
    "https://github.com/Matteo-Pietro-Pillitteri/Computational-Intelligence\n",
    "https://github.com/Zafonte/computational-intelligence"
   ]
  },
  {
   "cell_type": "code",
   "execution_count": 58,
   "metadata": {},
   "outputs": [],
   "source": [
    "from random import random\n",
    "from functools import reduce\n",
    "from collections import namedtuple\n",
    "from queue import PriorityQueue, SimpleQueue, LifoQueue\n",
    "\n",
    "import numpy as np"
   ]
  },
  {
   "cell_type": "markdown",
   "metadata": {},
   "source": [
    "**General case:**"
   ]
  },
  {
   "cell_type": "code",
   "execution_count": 59,
   "metadata": {},
   "outputs": [],
   "source": [
    "PROBLEM_SIZE = 20  # elements to cover\n",
    "NUM_SETS = 12  # tails in SET.\n",
    "SETS = tuple(\n",
    "    np.array([random() < 0.3 for _ in range(PROBLEM_SIZE)])\n",
    "    for _ in range(NUM_SETS)\n",
    ")\n",
    "State = namedtuple(\"State\", [\"taken\", \"not_taken\"])"
   ]
  },
  {
   "cell_type": "markdown",
   "metadata": {},
   "source": [
    "**Goal**: minimize the number of sets (num of array in SETS used to cover all the elements)"
   ]
  },
  {
   "cell_type": "code",
   "execution_count": 60,
   "metadata": {},
   "outputs": [
    {
     "data": {
      "text/plain": [
       "(array([False, False, False, False, False, False, False,  True, False,\n",
       "        False,  True, False, False,  True, False, False, False, False,\n",
       "        False, False]),\n",
       " array([ True,  True,  True, False, False, False, False, False, False,\n",
       "        False, False, False, False, False,  True,  True,  True, False,\n",
       "        False,  True]),\n",
       " array([False,  True,  True, False, False, False, False, False, False,\n",
       "        False,  True, False,  True,  True, False, False, False,  True,\n",
       "         True, False]),\n",
       " array([ True, False,  True, False,  True, False, False, False,  True,\n",
       "        False, False, False,  True, False,  True,  True, False, False,\n",
       "        False,  True]),\n",
       " array([False,  True, False, False,  True,  True, False,  True, False,\n",
       "        False,  True,  True, False, False,  True, False,  True, False,\n",
       "        False, False]),\n",
       " array([False, False, False, False,  True, False, False, False,  True,\n",
       "        False,  True, False, False,  True,  True, False, False, False,\n",
       "        False,  True]),\n",
       " array([False, False,  True, False, False,  True,  True, False, False,\n",
       "         True, False, False, False,  True,  True, False, False, False,\n",
       "        False,  True]),\n",
       " array([ True,  True, False, False, False, False, False,  True, False,\n",
       "        False, False, False,  True,  True, False,  True,  True, False,\n",
       "         True, False]),\n",
       " array([ True,  True, False,  True, False, False, False, False, False,\n",
       "         True, False,  True, False, False, False,  True, False,  True,\n",
       "        False, False]),\n",
       " array([False,  True, False,  True,  True, False, False, False, False,\n",
       "        False,  True,  True,  True, False, False,  True, False,  True,\n",
       "        False,  True]),\n",
       " array([False, False, False, False, False, False, False, False,  True,\n",
       "        False, False, False,  True, False,  True, False, False,  True,\n",
       "         True,  True]),\n",
       " array([False, False,  True, False, False, False,  True, False, False,\n",
       "        False, False,  True, False, False,  True, False,  True, False,\n",
       "        False, False]))"
      ]
     },
     "execution_count": 60,
     "metadata": {},
     "output_type": "execute_result"
    }
   ],
   "source": [
    "SETS"
   ]
  },
  {
   "cell_type": "markdown",
   "metadata": {},
   "source": [
    "**Specific case**: we created **SETS** (manually) that shows that the algorithm chooses the state with the lowest overlap if there are states with the same cost (**number of tiles  + distance to the goal**)"
   ]
  },
  {
   "cell_type": "code",
   "execution_count": 61,
   "metadata": {},
   "outputs": [],
   "source": [
    "tmp = tuple(\n",
    "    np.array(\n",
    "        [\n",
    "            [True, True, False, False, True],\n",
    "            [True, False, False, True, False],\n",
    "            [True, True, True, False, False],\n",
    "            [False, False, False, False, False],\n",
    "            [False, False, True, False, False],\n",
    "        ]\n",
    "    )\n",
    ")\n",
    "State = namedtuple(\"State\", [\"taken\", \"not_taken\"])"
   ]
  },
  {
   "cell_type": "code",
   "execution_count": 62,
   "metadata": {},
   "outputs": [
    {
     "data": {
      "text/plain": [
       "(array([ True,  True, False, False,  True]),\n",
       " array([ True, False, False,  True, False]),\n",
       " array([ True,  True,  True, False, False]),\n",
       " array([False, False, False, False, False]),\n",
       " array([False, False,  True, False, False]))"
      ]
     },
     "execution_count": 62,
     "metadata": {},
     "output_type": "execute_result"
    }
   ],
   "source": [
    "tmp"
   ]
  },
  {
   "cell_type": "markdown",
   "metadata": {},
   "source": [
    "It is possible to use the following code for both cases "
   ]
  },
  {
   "cell_type": "code",
   "execution_count": 63,
   "metadata": {},
   "outputs": [],
   "source": [
    "def goal_check(state):\n",
    "    return np.all(\n",
    "        reduce(\n",
    "            np.logical_or,\n",
    "            [SETS[i] for i in state.taken],\n",
    "            np.array([False for _ in range(PROBLEM_SIZE)]),\n",
    "        )\n",
    "    )\n",
    "\n",
    "def covered(state):\n",
    "    return reduce(\n",
    "            np.logical_or,\n",
    "            [SETS[i] for i in state.taken],\n",
    "            np.array([False for _ in range(PROBLEM_SIZE)]),\n",
    "        )\n",
    "\n",
    "def heuristic(\n",
    "    state,\n",
    "):  # this function gives the distance to the goal state in terms of number of missing Trues\n",
    "    return PROBLEM_SIZE - np.sum(covered(state))\n",
    "\n",
    "\n",
    "def overlap_cost(\n",
    "    state,\n",
    "):  # this function returns the cost due to overlapping among the array in SETS\n",
    "    set_overlap = np.array(\n",
    "        np.sum([SETS[i] for i in state.taken], axis=0)\n",
    "    )\n",
    "    res = [x - 1 if x > 1 else 0 for x in set_overlap]\n",
    "    return np.sum(res) / (PROBLEM_SIZE * len(state.taken))\n",
    "\n",
    "\n",
    "def g(state):\n",
    "    return len(state.taken) + overlap_cost(state)\n",
    "\n",
    "def f_cost(state):    # f(n) = h(n) + g(n)\n",
    "    print(\"heuristic:\", heuristic(state))\n",
    "    return heuristic(state) + g(state)"
   ]
  },
  {
   "cell_type": "markdown",
   "metadata": {},
   "source": [
    "We know that our heuristic cost function is pessimistic because each time our function returns the distance d from the current state to the goal one. So it means that we need d sets to reach the goal state, but it is possible to reach it also with less sets.\n",
    "\n",
    "A possible heuristic cost is the one that returns the minimum number of sets that could cover the whole interval of elements (as implemented by prof. Squillero in set-covering_path-search.ipynb)."
   ]
  },
  {
   "cell_type": "code",
   "execution_count": 64,
   "metadata": {},
   "outputs": [],
   "source": [
    "def goal_check(state):\n",
    "    return np.all(\n",
    "        reduce(\n",
    "            np.logical_or,\n",
    "            [SETS[i] for i in state.taken],\n",
    "            np.array([False for _ in range(PROBLEM_SIZE)]),\n",
    "        )\n",
    "    )\n",
    "\n",
    "def covered(state):\n",
    "    return reduce(\n",
    "            np.logical_or,\n",
    "            [SETS[i] for i in state.taken],\n",
    "            np.array([False for _ in range(PROBLEM_SIZE)]),\n",
    "        )\n",
    "\n",
    "def h3(state):  # given the state, we compute the heuristic cost as the minimum number of needed sets to add to the current taken sets that could cover the interval  \n",
    "    already_covered = covered(state)\n",
    "    if np.all(already_covered):\n",
    "        return 0\n",
    "    missing_size = PROBLEM_SIZE - sum(already_covered)\n",
    "    candidates = sorted((sum(np.logical_and(s, np.logical_not(already_covered))) for s in SETS), reverse=True)\n",
    "    #print(\"\\th3(): print candidates of \",state.taken,\": \",candidates)\n",
    "    taken = 1\n",
    "    while sum(candidates[:taken]) < missing_size:\n",
    "        taken += 1\n",
    "    #print(\"\\th3(): print heuristic cost of \",state.taken,\": \",taken)\n",
    "    return taken\n",
    "\n",
    "\n",
    "def overlap_cost(\n",
    "    state,\n",
    "):  # this function returns the cost due to overlapping among the array in SETS\n",
    "    if(len(state.taken)>1): # we put a condition on the number of taken sets in order to avoid to work with 0 dimensional array and to do not work with only one vector because there is no overlap in this case\n",
    "        set_overlap = np.array(\n",
    "            np.sum([SETS[i] for i in state.taken], axis=0)\n",
    "        )\n",
    "        res = [x - 1 if x > 1 else 0 for x in set_overlap]\n",
    "        return np.sum(res) / (PROBLEM_SIZE * len(state.taken))\n",
    "    else:\n",
    "        return 0\n",
    "\n",
    "\n",
    "def g(state):\n",
    "    return len(state.taken) + overlap_cost(state)\n",
    "\n",
    "def f_cost(state):  # f(n) = h(n) + g(n)\n",
    "    #print(\"heuristic: \", h3(state))\n",
    "    return h3(state) + g(state)"
   ]
  },
  {
   "cell_type": "code",
   "execution_count": 65,
   "metadata": {},
   "outputs": [],
   "source": [
    "assert goal_check(\n",
    "    State(set(range(NUM_SETS)), set())\n",
    "), \"Problem not solvable\""
   ]
  },
  {
   "cell_type": "markdown",
   "metadata": {},
   "source": [
    "frontier elements: index 0 -> cost ; index 1 -> state"
   ]
  },
  {
   "cell_type": "code",
   "execution_count": 66,
   "metadata": {},
   "outputs": [
    {
     "name": "stdout",
     "output_type": "stream",
     "text": [
      "current state:  State(taken=set(), not_taken={0, 1, 2, 3, 4, 5, 6, 7, 8, 9, 10, 11}) ; current cost:  3\n",
      "current state:  State(taken={5}, not_taken={0, 1, 2, 3, 4, 6, 7, 8, 9, 10, 11}) ; current cost:  3\n",
      "current state:  State(taken={6}, not_taken={0, 1, 2, 3, 4, 5, 7, 8, 9, 10, 11}) ; current cost:  3\n",
      "current state:  State(taken={11}, not_taken={0, 1, 2, 3, 4, 5, 6, 7, 8, 9, 10}) ; current cost:  3\n",
      "current state:  State(taken={7}, not_taken={0, 1, 2, 3, 4, 5, 6, 8, 9, 10, 11}) ; current cost:  3\n",
      "current state:  State(taken={9}, not_taken={0, 1, 2, 3, 4, 5, 6, 7, 8, 10, 11}) ; current cost:  3\n",
      "current state:  State(taken={0}, not_taken={1, 2, 3, 4, 5, 6, 7, 8, 9, 10, 11}) ; current cost:  4\n",
      "current state:  State(taken={2}, not_taken={0, 1, 3, 4, 5, 6, 7, 8, 9, 10, 11}) ; current cost:  4\n",
      "current state:  State(taken={10}, not_taken={0, 1, 2, 3, 4, 5, 6, 7, 8, 9, 11}) ; current cost:  4\n",
      "current state:  State(taken={4}, not_taken={0, 1, 2, 3, 5, 6, 7, 8, 9, 10, 11}) ; current cost:  4\n",
      "current state:  State(taken={1}, not_taken={0, 2, 3, 4, 5, 6, 7, 8, 9, 10, 11}) ; current cost:  4\n",
      "current state:  State(taken={0, 10}, not_taken={1, 2, 3, 4, 5, 6, 7, 8, 9, 11}) ; current cost:  4.0\n",
      "current state:  State(taken={8}, not_taken={0, 1, 2, 3, 4, 5, 6, 7, 9, 10, 11}) ; current cost:  4\n",
      "current state:  State(taken={8, 5}, not_taken={0, 1, 2, 3, 4, 6, 7, 9, 10, 11}) ; current cost:  4.0\n",
      "current state:  State(taken={0, 8}, not_taken={1, 2, 3, 4, 5, 6, 7, 9, 10, 11}) ; current cost:  4.0\n",
      "current state:  State(taken={8, 5}, not_taken={0, 1, 2, 3, 4, 6, 7, 9, 10, 11}) ; current cost:  4.0\n",
      "current state:  State(taken={0, 11}, not_taken={1, 2, 3, 4, 5, 6, 7, 8, 9, 10}) ; current cost:  4.0\n",
      "current state:  State(taken={3}, not_taken={0, 1, 2, 4, 5, 6, 7, 8, 9, 10, 11}) ; current cost:  4\n",
      "current state:  State(taken={8, 0}, not_taken={1, 2, 3, 4, 5, 6, 7, 9, 10, 11}) ; current cost:  4.0\n",
      "current state:  State(taken={0, 10}, not_taken={1, 2, 3, 4, 5, 6, 7, 8, 9, 11}) ; current cost:  4.0\n",
      "current state:  State(taken={0, 3}, not_taken={1, 2, 4, 5, 6, 7, 8, 9, 10, 11}) ; current cost:  4.0\n",
      "current state:  State(taken={0, 11}, not_taken={1, 2, 3, 4, 5, 6, 7, 8, 9, 10}) ; current cost:  4.0\n",
      "current state:  State(taken={0, 3}, not_taken={1, 2, 4, 5, 6, 7, 8, 9, 10, 11}) ; current cost:  4.0\n",
      "current state:  State(taken={11, 5}, not_taken={0, 1, 2, 3, 4, 6, 7, 8, 9, 10}) ; current cost:  4.025\n",
      "current state:  State(taken={9, 6}, not_taken={0, 1, 2, 3, 4, 5, 7, 8, 10, 11}) ; current cost:  4.025\n",
      "current state:  State(taken={8, 6}, not_taken={0, 1, 2, 3, 4, 5, 7, 9, 10, 11}) ; current cost:  4.025\n",
      "current state:  State(taken={8, 11}, not_taken={0, 1, 2, 3, 4, 5, 6, 7, 9, 10}) ; current cost:  4.025\n",
      "current state:  State(taken={9, 11}, not_taken={0, 1, 2, 3, 4, 5, 6, 7, 8, 10}) ; current cost:  4.025\n",
      "current state:  State(taken={6, 7}, not_taken={0, 1, 2, 3, 4, 5, 8, 9, 10, 11}) ; current cost:  4.025\n",
      "current state:  State(taken={8, 6}, not_taken={0, 1, 2, 3, 4, 5, 7, 9, 10, 11}) ; current cost:  4.025\n",
      "current state:  State(taken={9, 6}, not_taken={0, 1, 2, 3, 4, 5, 7, 8, 10, 11}) ; current cost:  4.025\n",
      "current state:  State(taken={11, 7}, not_taken={0, 1, 2, 3, 4, 5, 6, 8, 9, 10}) ; current cost:  4.025\n",
      "current state:  State(taken={0, 9}, not_taken={1, 2, 3, 4, 5, 6, 7, 8, 10, 11}) ; current cost:  4.025\n",
      "current state:  State(taken={6, 7}, not_taken={0, 1, 2, 3, 4, 5, 8, 9, 10, 11}) ; current cost:  4.025\n",
      "current state:  State(taken={10, 4}, not_taken={0, 1, 2, 3, 5, 6, 7, 8, 9, 11}) ; current cost:  4.025\n",
      "current state:  State(taken={10, 11}, not_taken={0, 1, 2, 3, 4, 5, 6, 7, 8, 9}) ; current cost:  4.025\n",
      "current state:  State(taken={8, 10}, not_taken={0, 1, 2, 3, 4, 5, 6, 7, 9, 11}) ; current cost:  4.025\n",
      "current state:  State(taken={5, 7}, not_taken={0, 1, 2, 3, 4, 6, 8, 9, 10, 11}) ; current cost:  4.025\n",
      "current state:  State(taken={10, 4}, not_taken={0, 1, 2, 3, 5, 6, 7, 8, 9, 11}) ; current cost:  4.025\n",
      "current state:  State(taken={0, 6}, not_taken={1, 2, 3, 4, 5, 7, 8, 9, 10, 11}) ; current cost:  4.025\n",
      "current state:  State(taken={10, 11}, not_taken={0, 1, 2, 3, 4, 5, 6, 7, 8, 9}) ; current cost:  4.025\n",
      "current state:  State(taken={8, 11}, not_taken={0, 1, 2, 3, 4, 5, 6, 7, 9, 10}) ; current cost:  4.025\n",
      "current state:  State(taken={9, 11}, not_taken={0, 1, 2, 3, 4, 5, 6, 7, 8, 10}) ; current cost:  4.025\n",
      "current state:  State(taken={11, 7}, not_taken={0, 1, 2, 3, 4, 5, 6, 8, 9, 10}) ; current cost:  4.025\n",
      "current state:  State(taken={2, 11}, not_taken={0, 1, 3, 4, 5, 6, 7, 8, 9, 10}) ; current cost:  4.025\n",
      "current state:  State(taken={11, 5}, not_taken={0, 1, 2, 3, 4, 6, 7, 8, 9, 10}) ; current cost:  4.025\n",
      "current state:  State(taken={5, 7}, not_taken={0, 1, 2, 3, 4, 6, 8, 9, 10, 11}) ; current cost:  4.025\n",
      "current state:  State(taken={0, 9}, not_taken={1, 2, 3, 4, 5, 6, 7, 8, 10, 11}) ; current cost:  4.025\n",
      "current state:  State(taken={2, 11}, not_taken={0, 1, 3, 4, 5, 6, 7, 8, 9, 10}) ; current cost:  4.025\n",
      "current state:  State(taken={0, 6}, not_taken={1, 2, 3, 4, 5, 7, 8, 9, 10, 11}) ; current cost:  4.025\n",
      "current state:  State(taken={8, 10}, not_taken={0, 1, 2, 3, 4, 5, 6, 7, 9, 11}) ; current cost:  4.025\n",
      "current state:  State(taken={10, 6}, not_taken={0, 1, 2, 3, 4, 5, 7, 8, 9, 11}) ; current cost:  4.05\n",
      "current state:  State(taken={8, 3}, not_taken={0, 1, 2, 4, 5, 6, 7, 9, 10, 11}) ; current cost:  4.05\n",
      "current state:  State(taken={8, 4}, not_taken={0, 1, 2, 3, 5, 6, 7, 9, 10, 11}) ; current cost:  4.05\n",
      "current state:  State(taken={8, 2}, not_taken={0, 1, 3, 4, 5, 6, 7, 9, 10, 11}) ; current cost:  4.05\n",
      "current state:  State(taken={2, 5}, not_taken={0, 1, 3, 4, 6, 7, 8, 9, 10, 11}) ; current cost:  4.05\n",
      "current state:  State(taken={1, 10}, not_taken={0, 2, 3, 4, 5, 6, 7, 8, 9, 11}) ; current cost:  4.05\n",
      "current state:  State(taken={4, 6}, not_taken={0, 1, 2, 3, 5, 7, 8, 9, 10, 11}) ; current cost:  4.05\n",
      "current state:  State(taken={10, 7}, not_taken={0, 1, 2, 3, 4, 5, 6, 8, 9, 11}) ; current cost:  4.05\n",
      "current state:  State(taken={0, 5}, not_taken={1, 2, 3, 4, 6, 7, 8, 9, 10, 11}) ; current cost:  4.05\n",
      "current state:  State(taken={8, 4}, not_taken={0, 1, 2, 3, 5, 6, 7, 9, 10, 11}) ; current cost:  4.05\n",
      "current state:  State(taken={2, 6}, not_taken={0, 1, 3, 4, 5, 7, 8, 9, 10, 11}) ; current cost:  4.05\n",
      "current state:  State(taken={4, 6}, not_taken={0, 1, 2, 3, 5, 7, 8, 9, 10, 11}) ; current cost:  4.05\n",
      "current state:  State(taken={0, 4}, not_taken={1, 2, 3, 5, 6, 7, 8, 9, 10, 11}) ; current cost:  4.05\n",
      "current state:  State(taken={2, 4}, not_taken={0, 1, 3, 5, 6, 7, 8, 9, 10, 11}) ; current cost:  4.05\n",
      "current state:  State(taken={3, 4}, not_taken={0, 1, 2, 5, 6, 7, 8, 9, 10, 11}) ; current cost:  4.05\n",
      "current state:  State(taken={10, 6}, not_taken={0, 1, 2, 3, 4, 5, 7, 8, 9, 11}) ; current cost:  4.05\n",
      "current state:  State(taken={10, 7}, not_taken={0, 1, 2, 3, 4, 5, 6, 8, 9, 11}) ; current cost:  4.05\n",
      "current state:  State(taken={3, 11}, not_taken={0, 1, 2, 4, 5, 6, 7, 8, 9, 10}) ; current cost:  4.05\n",
      "current state:  State(taken={0, 7}, not_taken={1, 2, 3, 4, 5, 6, 8, 9, 10, 11}) ; current cost:  4.05\n",
      "current state:  State(taken={8, 3}, not_taken={0, 1, 2, 4, 5, 6, 7, 9, 10, 11}) ; current cost:  4.05\n",
      "current state:  State(taken={2, 3}, not_taken={0, 1, 4, 5, 6, 7, 8, 9, 10, 11}) ; current cost:  4.05\n",
      "current state:  State(taken={3, 4}, not_taken={0, 1, 2, 5, 6, 7, 8, 9, 10, 11}) ; current cost:  4.05\n",
      "current state:  State(taken={1, 10}, not_taken={0, 2, 3, 4, 5, 6, 7, 8, 9, 11}) ; current cost:  4.05\n",
      "current state:  State(taken={8, 2}, not_taken={0, 1, 3, 4, 5, 6, 7, 9, 10, 11}) ; current cost:  4.05\n",
      "current state:  State(taken={2, 5}, not_taken={0, 1, 3, 4, 6, 7, 8, 9, 10, 11}) ; current cost:  4.05\n",
      "current state:  State(taken={2, 6}, not_taken={0, 1, 3, 4, 5, 7, 8, 9, 10, 11}) ; current cost:  4.05\n",
      "current state:  State(taken={2, 4}, not_taken={0, 1, 3, 5, 6, 7, 8, 9, 10, 11}) ; current cost:  4.05\n",
      "current state:  State(taken={2, 3}, not_taken={0, 1, 4, 5, 6, 7, 8, 9, 10, 11}) ; current cost:  4.05\n",
      "current state:  State(taken={11, 3}, not_taken={0, 1, 2, 4, 5, 6, 7, 8, 9, 10}) ; current cost:  4.05\n",
      "current state:  State(taken={0, 7}, not_taken={1, 2, 3, 4, 5, 6, 8, 9, 10, 11}) ; current cost:  4.05\n",
      "current state:  State(taken={0, 5}, not_taken={1, 2, 3, 4, 6, 7, 8, 9, 10, 11}) ; current cost:  4.05\n",
      "current state:  State(taken={0, 4}, not_taken={1, 2, 3, 5, 6, 7, 8, 9, 10, 11}) ; current cost:  4.05\n",
      "current state:  State(taken={8, 10, 6}, not_taken={0, 1, 2, 3, 4, 5, 7, 9, 11}) ; current cost:  4.066666666666666\n",
      "current state:  State(taken={8, 5, 6}, not_taken={0, 1, 2, 3, 4, 7, 9, 10, 11}) ; current cost:  4.066666666666666\n",
      "current state:  State(taken={8, 10, 4}, not_taken={0, 1, 2, 3, 5, 6, 7, 9, 11}) ; current cost:  4.066666666666666\n",
      "current state:  State(taken={8, 10, 6}, not_taken={0, 1, 2, 3, 4, 5, 7, 9, 11}) ; current cost:  4.066666666666666\n",
      "current state:  State(taken={8, 10, 4}, not_taken={0, 1, 2, 3, 5, 6, 7, 9, 11}) ; current cost:  4.066666666666666\n",
      "current state:  State(taken={10, 4, 6}, not_taken={0, 1, 2, 3, 5, 7, 8, 9, 11}) ; current cost:  4.066666666666666\n",
      "current state:  State(taken={8, 10, 6}, not_taken={0, 1, 2, 3, 4, 5, 7, 9, 11}) ; current cost:  4.066666666666666\n",
      "current state:  State(taken={5, 6, 7}, not_taken={0, 1, 2, 3, 4, 8, 9, 10, 11}) ; current cost:  4.066666666666666\n",
      "current state:  State(taken={8, 5, 7}, not_taken={0, 1, 2, 3, 4, 6, 9, 10, 11}) ; current cost:  4.066666666666666\n",
      "current state:  State(taken={10, 4, 6}, not_taken={0, 1, 2, 3, 5, 7, 8, 9, 11}) ; current cost:  4.066666666666666\n",
      "current state:  State(taken={8, 10, 4}, not_taken={0, 1, 2, 3, 5, 6, 7, 9, 11}) ; current cost:  4.066666666666666\n",
      "current state:  State(taken={8, 5, 7}, not_taken={0, 1, 2, 3, 4, 6, 9, 10, 11}) ; current cost:  4.066666666666666\n",
      "current state:  State(taken={5, 6, 7}, not_taken={0, 1, 2, 3, 4, 8, 9, 10, 11}) ; current cost:  4.066666666666666\n",
      "current state:  State(taken={8, 10, 6}, not_taken={0, 1, 2, 3, 4, 5, 7, 9, 11}) ; current cost:  4.066666666666666\n",
      "current state:  State(taken={8, 10, 4}, not_taken={0, 1, 2, 3, 5, 6, 7, 9, 11}) ; current cost:  4.066666666666666\n",
      "current state:  State(taken={8, 10, 4}, not_taken={0, 1, 2, 3, 5, 6, 7, 9, 11}) ; current cost:  4.066666666666666\n",
      "current state:  State(taken={10, 4, 6}, not_taken={0, 1, 2, 3, 5, 7, 8, 9, 11}) ; current cost:  4.066666666666666\n",
      "current state:  State(taken={5, 6, 7}, not_taken={0, 1, 2, 3, 4, 8, 9, 10, 11}) ; current cost:  4.066666666666666\n",
      "current state:  State(taken={8, 5, 7}, not_taken={0, 1, 2, 3, 4, 6, 9, 10, 11}) ; current cost:  4.066666666666666\n",
      "current state:  State(taken={8, 5, 6}, not_taken={0, 1, 2, 3, 4, 7, 9, 10, 11}) ; current cost:  4.066666666666666\n",
      "current state:  State(taken={8, 10, 6}, not_taken={0, 1, 2, 3, 4, 5, 7, 9, 11}) ; current cost:  4.066666666666666\n",
      "current state:  State(taken={10, 4, 6}, not_taken={0, 1, 2, 3, 5, 7, 8, 9, 11}) ; current cost:  4.066666666666666\n",
      "current state:  State(taken={10, 4, 6}, not_taken={0, 1, 2, 3, 5, 7, 8, 9, 11}) ; current cost:  4.066666666666666\n",
      "current state:  State(taken={8, 10, 6}, not_taken={0, 1, 2, 3, 4, 5, 7, 9, 11}) ; current cost:  4.066666666666666\n",
      "current state:  State(taken={8, 5, 6}, not_taken={0, 1, 2, 3, 4, 7, 9, 10, 11}) ; current cost:  4.066666666666666\n",
      "current state:  State(taken={8, 10, 4}, not_taken={0, 1, 2, 3, 5, 6, 7, 9, 11}) ; current cost:  4.066666666666666\n",
      "current state:  State(taken={8, 5, 6}, not_taken={0, 1, 2, 3, 4, 7, 9, 10, 11}) ; current cost:  4.066666666666666\n",
      "current state:  State(taken={8, 5, 7}, not_taken={0, 1, 2, 3, 4, 6, 9, 10, 11}) ; current cost:  4.066666666666666\n",
      "current state:  State(taken={5, 6, 7}, not_taken={0, 1, 2, 3, 4, 8, 9, 10, 11}) ; current cost:  4.066666666666666\n",
      "current state:  State(taken={10, 4, 6}, not_taken={0, 1, 2, 3, 5, 7, 8, 9, 11}) ; current cost:  4.066666666666666\n",
      "current state:  State(taken={9, 10}, not_taken={0, 1, 2, 3, 4, 5, 6, 7, 8, 11}) ; current cost:  4.075\n",
      "current state:  State(taken={9, 7}, not_taken={0, 1, 2, 3, 4, 5, 6, 8, 10, 11}) ; current cost:  4.075\n",
      "current state:  State(taken={9, 5}, not_taken={0, 1, 2, 3, 4, 6, 7, 8, 10, 11}) ; current cost:  4.075\n",
      "current state:  State(taken={9, 1}, not_taken={0, 2, 3, 4, 5, 6, 7, 8, 10, 11}) ; current cost:  4.075\n",
      "current state:  State(taken={5, 6}, not_taken={0, 1, 2, 3, 4, 7, 8, 9, 10, 11}) ; current cost:  4.075\n",
      "current state:  State(taken={5, 6, 7}, not_taken={0, 1, 2, 3, 4, 8, 9, 10, 11}) ; current cost:  4.066666666666666\n",
      "current state:  State(taken={8, 5, 6}, not_taken={0, 1, 2, 3, 4, 7, 9, 10, 11}) ; current cost:  4.066666666666666\n",
      "current state:  State(taken={1, 6}, not_taken={0, 2, 3, 4, 5, 7, 8, 9, 10, 11}) ; current cost:  4.075\n",
      "current state:  State(taken={1, 4}, not_taken={0, 2, 3, 5, 6, 7, 8, 9, 10, 11}) ; current cost:  4.075\n",
      "current state:  State(taken={3, 6}, not_taken={0, 1, 2, 4, 5, 7, 8, 9, 10, 11}) ; current cost:  4.075\n",
      "current state:  State(taken={9, 7}, not_taken={0, 1, 2, 3, 4, 5, 6, 8, 10, 11}) ; current cost:  4.075\n",
      "current state:  State(taken={8, 7}, not_taken={0, 1, 2, 3, 4, 5, 6, 9, 10, 11}) ; current cost:  4.075\n",
      "current state:  State(taken={8, 5, 7}, not_taken={0, 1, 2, 3, 4, 6, 9, 10, 11}) ; current cost:  4.066666666666666\n",
      "current state:  State(taken={4, 5}, not_taken={0, 1, 2, 3, 6, 7, 8, 9, 10, 11}) ; current cost:  4.075\n",
      "current state:  State(taken={4, 7}, not_taken={0, 1, 2, 3, 5, 6, 8, 9, 10, 11}) ; current cost:  4.075\n",
      "current state:  State(taken={1, 4}, not_taken={0, 2, 3, 5, 6, 7, 8, 9, 10, 11}) ; current cost:  4.075\n",
      "current state:  State(taken={1, 6}, not_taken={0, 2, 3, 4, 5, 7, 8, 9, 10, 11}) ; current cost:  4.075\n",
      "current state:  State(taken={9, 10}, not_taken={0, 1, 2, 3, 4, 5, 6, 7, 8, 11}) ; current cost:  4.075\n",
      "current state:  State(taken={3, 7}, not_taken={0, 1, 2, 4, 5, 6, 8, 9, 10, 11}) ; current cost:  4.075\n",
      "current state:  State(taken={11, 6}, not_taken={0, 1, 2, 3, 4, 5, 7, 8, 9, 10}) ; current cost:  4.075\n",
      "current state:  State(taken={10, 5}, not_taken={0, 1, 2, 3, 4, 6, 7, 8, 9, 11}) ; current cost:  4.075\n",
      "current state:  State(taken={3, 7}, not_taken={0, 1, 2, 4, 5, 6, 8, 9, 10, 11}) ; current cost:  4.075\n",
      "current state:  State(taken={3, 6}, not_taken={0, 1, 2, 4, 5, 7, 8, 9, 10, 11}) ; current cost:  4.075\n",
      "current state:  State(taken={10, 5}, not_taken={0, 1, 2, 3, 4, 6, 7, 8, 9, 11}) ; current cost:  4.075\n",
      "current state:  State(taken={2, 10}, not_taken={0, 1, 3, 4, 5, 6, 7, 8, 9, 11}) ; current cost:  4.075\n",
      "current state:  State(taken={9, 5}, not_taken={0, 1, 2, 3, 4, 6, 7, 8, 10, 11}) ; current cost:  4.075\n",
      "current state:  State(taken={10, 2}, not_taken={0, 1, 3, 4, 5, 6, 7, 8, 9, 11}) ; current cost:  4.075\n",
      "current state:  State(taken={11, 4}, not_taken={0, 1, 2, 3, 5, 6, 7, 8, 9, 10}) ; current cost:  4.075\n",
      "current state:  State(taken={11, 4}, not_taken={0, 1, 2, 3, 5, 6, 7, 8, 9, 10}) ; current cost:  4.075\n",
      "current state:  State(taken={1, 9}, not_taken={0, 2, 3, 4, 5, 6, 7, 8, 10, 11}) ; current cost:  4.075\n",
      "current state:  State(taken={4, 7}, not_taken={0, 1, 2, 3, 5, 6, 8, 9, 10, 11}) ; current cost:  4.075\n",
      "current state:  State(taken={11, 6}, not_taken={0, 1, 2, 3, 4, 5, 7, 8, 9, 10}) ; current cost:  4.075\n",
      "current state:  State(taken={5, 6}, not_taken={0, 1, 2, 3, 4, 7, 8, 9, 10, 11}) ; current cost:  4.075\n",
      "current state:  State(taken={5, 6, 7}, not_taken={0, 1, 2, 3, 4, 8, 9, 10, 11}) ; current cost:  4.066666666666666\n",
      "current state:  State(taken={8, 5, 6}, not_taken={0, 1, 2, 3, 4, 7, 9, 10, 11}) ; current cost:  4.066666666666666\n",
      "current state:  State(taken={4, 5}, not_taken={0, 1, 2, 3, 6, 7, 8, 9, 10, 11}) ; current cost:  4.075\n",
      "current state:  State(taken={8, 7}, not_taken={0, 1, 2, 3, 4, 5, 6, 9, 10, 11}) ; current cost:  4.075\n",
      "current state:  State(taken={8, 5, 7}, not_taken={0, 1, 2, 3, 4, 6, 9, 10, 11}) ; current cost:  4.066666666666666\n",
      "current state:  State(taken={8, 6, 7}, not_taken={0, 1, 2, 3, 4, 5, 9, 10, 11}) ; current cost:  4.083333333333334\n",
      "current state:  State(taken={9, 10, 6}, not_taken={0, 1, 2, 3, 4, 5, 7, 8, 11}) ; current cost:  4.083333333333334\n",
      "current state:  State(taken={9, 6, 7}, not_taken={0, 1, 2, 3, 4, 5, 8, 10, 11}) ; current cost:  4.083333333333334\n",
      "current state:  State(taken={8, 4, 6}, not_taken={0, 1, 2, 3, 5, 7, 9, 10, 11}) ; current cost:  4.083333333333334\n",
      "current state:  State(taken={9, 10, 6}, not_taken={0, 1, 2, 3, 4, 5, 7, 8, 11}) ; current cost:  4.083333333333334\n",
      "current state:  State(taken={10, 6, 7}, not_taken={0, 1, 2, 3, 4, 5, 8, 9, 11}) ; current cost:  4.083333333333334\n",
      "current state:  State(taken={9, 10, 6}, not_taken={0, 1, 2, 3, 4, 5, 7, 8, 11}) ; current cost:  4.083333333333334\n",
      "current state:  State(taken={9, 6, 7}, not_taken={0, 1, 2, 3, 4, 5, 8, 10, 11}) ; current cost:  4.083333333333334\n",
      "current state:  State(taken={8, 4, 6}, not_taken={0, 1, 2, 3, 5, 7, 9, 10, 11}) ; current cost:  4.083333333333334\n",
      "current state:  State(taken={10, 6, 7}, not_taken={0, 1, 2, 3, 4, 5, 8, 9, 11}) ; current cost:  4.083333333333334\n",
      "current state:  State(taken={8, 6, 7}, not_taken={0, 1, 2, 3, 4, 5, 9, 10, 11}) ; current cost:  4.083333333333334\n",
      "current state:  State(taken={8, 6, 7}, not_taken={0, 1, 2, 3, 4, 5, 9, 10, 11}) ; current cost:  4.083333333333334\n",
      "current state:  State(taken={9, 6, 7}, not_taken={0, 1, 2, 3, 4, 5, 8, 10, 11}) ; current cost:  4.083333333333334\n",
      "current state:  State(taken={10, 6, 7}, not_taken={0, 1, 2, 3, 4, 5, 8, 9, 11}) ; current cost:  4.083333333333334\n",
      "current state:  State(taken={9, 10, 6}, not_taken={0, 1, 2, 3, 4, 5, 7, 8, 11}) ; current cost:  4.083333333333334\n",
      "current state:  State(taken={10, 6, 7}, not_taken={0, 1, 2, 3, 4, 5, 8, 9, 11}) ; current cost:  4.083333333333334\n",
      "current state:  State(taken={9, 10, 6}, not_taken={0, 1, 2, 3, 4, 5, 7, 8, 11}) ; current cost:  4.083333333333334\n",
      "current state:  State(taken={9, 6, 7}, not_taken={0, 1, 2, 3, 4, 5, 8, 10, 11}) ; current cost:  4.083333333333334\n",
      "current state:  State(taken={8, 4, 6}, not_taken={0, 1, 2, 3, 5, 7, 9, 10, 11}) ; current cost:  4.083333333333334\n",
      "current state:  State(taken={9, 10, 6}, not_taken={0, 1, 2, 3, 4, 5, 7, 8, 11}) ; current cost:  4.083333333333334\n",
      "current state:  State(taken={8, 4, 6}, not_taken={0, 1, 2, 3, 5, 7, 9, 10, 11}) ; current cost:  4.083333333333334\n",
      "current state:  State(taken={8, 4, 6}, not_taken={0, 1, 2, 3, 5, 7, 9, 10, 11}) ; current cost:  4.083333333333334\n",
      "current state:  State(taken={8, 6, 7}, not_taken={0, 1, 2, 3, 4, 5, 9, 10, 11}) ; current cost:  4.083333333333334\n",
      "current state:  State(taken={10, 6, 7}, not_taken={0, 1, 2, 3, 4, 5, 8, 9, 11}) ; current cost:  4.083333333333334\n",
      "current state:  State(taken={8, 6, 7}, not_taken={0, 1, 2, 3, 4, 5, 9, 10, 11}) ; current cost:  4.083333333333334\n",
      "current state:  State(taken={9, 6, 7}, not_taken={0, 1, 2, 3, 4, 5, 8, 10, 11}) ; current cost:  4.083333333333334\n",
      "current state:  State(taken={9, 6, 7}, not_taken={0, 1, 2, 3, 4, 5, 8, 10, 11}) ; current cost:  4.083333333333334\n",
      "current state:  State(taken={8, 6, 7}, not_taken={0, 1, 2, 3, 4, 5, 9, 10, 11}) ; current cost:  4.083333333333334\n",
      "current state:  State(taken={8, 4, 6}, not_taken={0, 1, 2, 3, 5, 7, 9, 10, 11}) ; current cost:  4.083333333333334\n",
      "current state:  State(taken={10, 6, 7}, not_taken={0, 1, 2, 3, 4, 5, 8, 9, 11}) ; current cost:  4.083333333333334\n",
      "solution:  State(taken={8, 10, 4, 6}, not_taken={0, 1, 2, 3, 5, 7, 9, 11}) ; current cost:  4.1 \n",
      "\n",
      "Solved in 181 steps, tiles: (4)\n"
     ]
    }
   ],
   "source": [
    "frontier = PriorityQueue()\n",
    "state = State(set(), set(range(NUM_SETS)))\n",
    "frontier.put((f_cost(state), state))\n",
    "\n",
    "counter = 0\n",
    "current_cost, current_state = frontier.get()\n",
    "while not goal_check(current_state):\n",
    "    print(\"current state: \", current_state,\"; current cost: \",current_cost)\n",
    "    counter += 1\n",
    "    for action in current_state.not_taken:\n",
    "        new_state = State(\n",
    "            current_state.taken ^ {action},\n",
    "            current_state.not_taken ^ {action},\n",
    "        )\n",
    "        frontier.put((f_cost(new_state), new_state))\n",
    "    current_cost, current_state = frontier.get()\n",
    "print(\"solution: \", current_state,\"; current cost: \", current_cost, \"\\n\")\n",
    "\n",
    "print(\n",
    "    f\"Solved in {counter:,} steps, tiles: ({len(current_state.taken)})\"\n",
    ")"
   ]
  },
  {
   "cell_type": "code",
   "execution_count": 67,
   "metadata": {},
   "outputs": [
    {
     "data": {
      "text/plain": [
       "0.1"
      ]
     },
     "execution_count": 67,
     "metadata": {},
     "output_type": "execute_result"
    }
   ],
   "source": [
    "overlap_cost(current_state)"
   ]
  },
  {
   "cell_type": "code",
   "execution_count": 68,
   "metadata": {},
   "outputs": [
    {
     "data": {
      "text/plain": [
       "State(taken={8, 10, 4, 6}, not_taken={0, 1, 2, 3, 5, 7, 9, 11})"
      ]
     },
     "execution_count": 68,
     "metadata": {},
     "output_type": "execute_result"
    }
   ],
   "source": [
    "current_state"
   ]
  },
  {
   "cell_type": "markdown",
   "metadata": {},
   "source": [
    "The following code tests the PriorityQueue when there are both decimal and integer costs. It is possible to use a decimal cost for assign less importance to a state with an higher overlap. So, this decimal contribution to the overall cost of a state, is due to **overlapping** and it moves from 0.1 to 0.9 according to the number of overlapped elements. In order to prioritize the state with a minimum overlap, it's possbile to assign a lower decimal value. "
   ]
  },
  {
   "cell_type": "code",
   "execution_count": 69,
   "metadata": {},
   "outputs": [],
   "source": [
    "prova = PriorityQueue()\n",
    "prova.put((2.2, \"ciao\"))\n",
    "prova.put((2, \"ivan\"))\n",
    "prova.put((3, \"matteo\"))"
   ]
  },
  {
   "cell_type": "code",
   "execution_count": 70,
   "metadata": {},
   "outputs": [
    {
     "data": {
      "text/plain": [
       "(2, 'ivan')"
      ]
     },
     "execution_count": 70,
     "metadata": {},
     "output_type": "execute_result"
    }
   ],
   "source": [
    "prova.get()"
   ]
  },
  {
   "cell_type": "markdown",
   "metadata": {},
   "source": [
    "The following code shows how it's possible to calculate the overlap"
   ]
  },
  {
   "cell_type": "code",
   "execution_count": 71,
   "metadata": {},
   "outputs": [],
   "source": [
    "PROVA_SETS = tuple(\n",
    "    np.array([random() < 0.6 for _ in range(PROBLEM_SIZE)])\n",
    "    for _ in range(2)\n",
    ")\n",
    "\n"
   ]
  },
  {
   "cell_type": "code",
   "execution_count": 72,
   "metadata": {},
   "outputs": [
    {
     "data": {
      "text/plain": [
       "(array([ True, False, False,  True,  True, False,  True,  True, False,\n",
       "         True,  True,  True,  True,  True,  True, False,  True,  True,\n",
       "        False,  True]),\n",
       " array([ True,  True, False, False, False, False,  True, False, False,\n",
       "         True, False, False,  True, False, False,  True,  True,  True,\n",
       "         True, False]))"
      ]
     },
     "execution_count": 72,
     "metadata": {},
     "output_type": "execute_result"
    }
   ],
   "source": [
    "PROVA_SETS"
   ]
  },
  {
   "cell_type": "code",
   "execution_count": 73,
   "metadata": {},
   "outputs": [
    {
     "data": {
      "text/plain": [
       "array([2, 1, 0, 1, 1, 0, 2, 1, 0, 2, 1, 1, 2, 1, 1, 1, 2, 2, 1, 1])"
      ]
     },
     "execution_count": 73,
     "metadata": {},
     "output_type": "execute_result"
    }
   ],
   "source": [
    "res = np.array(np.sum(PROVA_SETS, axis=0))\n",
    "res"
   ]
  },
  {
   "cell_type": "markdown",
   "metadata": {},
   "source": [
    "If there are 3 arrays, for istance [1, 1, 0, ..]\n",
    "                                   [1, 0, 0, ..]\n",
    "                                   [1, 1, 1, ..]\n",
    "for the first element there is an overlap between the first and the second array. Then, there is another overlap between the second and the third array. In sum, for the first element it's possible to count an overlap equals to 2."
   ]
  },
  {
   "cell_type": "code",
   "execution_count": 74,
   "metadata": {},
   "outputs": [],
   "source": [
    "res = [x - 1 if x > 1 else 0 for x in res]"
   ]
  },
  {
   "cell_type": "code",
   "execution_count": 75,
   "metadata": {},
   "outputs": [
    {
     "data": {
      "text/plain": [
       "[1, 0, 0, 0, 0, 0, 1, 0, 0, 1, 0, 0, 1, 0, 0, 0, 1, 1, 0, 0]"
      ]
     },
     "execution_count": 75,
     "metadata": {},
     "output_type": "execute_result"
    }
   ],
   "source": [
    "res"
   ]
  },
  {
   "cell_type": "markdown",
   "metadata": {},
   "source": [
    "In order to calculate a decimal cost it is possible to sum the values of the array evaluated from the previous step and divide it for the total number of elements in the \"taken set\". In this small example PROBLEM_SIZE * len(PROVA_SETS) represents the taken set"
   ]
  },
  {
   "cell_type": "code",
   "execution_count": 76,
   "metadata": {},
   "outputs": [],
   "source": [
    "x = np.sum(res) / (PROBLEM_SIZE * len(PROVA_SETS))"
   ]
  },
  {
   "cell_type": "code",
   "execution_count": 77,
   "metadata": {},
   "outputs": [
    {
     "data": {
      "text/plain": [
       "0.15"
      ]
     },
     "execution_count": 77,
     "metadata": {},
     "output_type": "execute_result"
    }
   ],
   "source": [
    "x"
   ]
  }
 ],
 "metadata": {
  "kernelspec": {
   "display_name": "venv",
   "language": "python",
   "name": "python3"
  },
  "language_info": {
   "codemirror_mode": {
    "name": "ipython",
    "version": 3
   },
   "file_extension": ".py",
   "mimetype": "text/x-python",
   "name": "python",
   "nbconvert_exporter": "python",
   "pygments_lexer": "ipython3",
   "version": "3.11.0"
  }
 },
 "nbformat": 4,
 "nbformat_minor": 2
}
