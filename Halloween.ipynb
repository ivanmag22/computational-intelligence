{
 "cells": [
  {
   "cell_type": "markdown",
   "id": "185f9931-b384-4fdc-a5b2-eea785428bb8",
   "metadata": {},
   "source": [
    "Copyright **`(c)`** 2023 Giovanni Squillero `<giovanni.squillero@polito.it>`  \n",
    "[`https://github.com/squillero/computational-intelligence`](https://github.com/squillero/computational-intelligence)  \n",
    "Free for personal or classroom use; see [`LICENSE.md`](https://github.com/squillero/computational-intelligence/blob/master/LICENSE.md) for details.  "
   ]
  },
  {
   "cell_type": "code",
   "execution_count": 380,
   "id": "3ffe7245-e849-41d0-9698-5f0e0b83fee9",
   "metadata": {},
   "outputs": [],
   "source": [
    "from itertools import product\n",
    "from random import random, randint, shuffle, seed, choice\n",
    "import numpy as np\n",
    "from scipy import sparse\n",
    "\n",
    "from copy import copy\n",
    "from functools import reduce\n",
    "from collections import namedtuple\n",
    "from queue import PriorityQueue"
   ]
  },
  {
   "cell_type": "code",
   "execution_count": 381,
   "id": "6f03bd67-78a0-4d72-95b7-77a918727b91",
   "metadata": {},
   "outputs": [],
   "source": [
    "def make_set_covering_problem(num_points, num_sets, density):\n",
    "    \"\"\"Returns a sparse array where rows are sets and columns are the covered items\"\"\"\n",
    "    seed(num_points*2654435761+num_sets+density)\n",
    "    sets = sparse.lil_array((num_sets, num_points), dtype=bool)\n",
    "    for s, p in product(range(num_sets), range(num_points)):\n",
    "        if random() < density:\n",
    "            sets[s, p] = True\n",
    "    for p in range(num_points):\n",
    "        sets[randint(0, num_sets-1), p] = True\n",
    "    return sets"
   ]
  },
  {
   "cell_type": "markdown",
   "id": "82b0be37-21d9-492d-9a1d-cf0cdf0ddd76",
   "metadata": {},
   "source": [
    "# Halloween Challenge\n",
    "\n",
    "Find the best solution with the fewest calls to the fitness functions for:\n",
    "\n",
    "* `num_points = [100, 1_000, 5_000]`\n",
    "* `num_sets = num_points`\n",
    "* `density = [.3, .7]` "
   ]
  },
  {
   "cell_type": "code",
   "execution_count": 382,
   "id": "edfc7fa7",
   "metadata": {},
   "outputs": [],
   "source": [
    "num_points = 100    #100, 1_000, 5_000\n",
    "num_sets = num_points\n",
    "density = .3"
   ]
  },
  {
   "cell_type": "code",
   "execution_count": 383,
   "id": "221ffdba-5d3d-48cc-bd08-45ccc9366ea6",
   "metadata": {},
   "outputs": [
    {
     "name": "stdout",
     "output_type": "stream",
     "text": [
      "Element at row=42 and column=42: True\n"
     ]
    }
   ],
   "source": [
    "x = make_set_covering_problem(num_points, num_sets, density)\n",
    "SETS = x.toarray()\n",
    "print(\"Element at row=42 and column=42:\", x[42, 42])"
   ]
  },
  {
   "cell_type": "code",
   "execution_count": 384,
   "id": "721bc001",
   "metadata": {},
   "outputs": [],
   "source": [
    "def tweak(state):\n",
    "    new_state = copy(state)\n",
    "    index = randint(0, num_points - 1)\n",
    "    new_state[index] = not new_state[index]\n",
    "    return new_state"
   ]
  },
  {
   "cell_type": "code",
   "execution_count": 385,
   "id": "deab9b8f",
   "metadata": {},
   "outputs": [],
   "source": [
    "def fitness(state):\n",
    "    cost = sum(state)\n",
    "    valid = np.sum(\n",
    "        reduce(\n",
    "            np.logical_or,\n",
    "            [SETS[i] for i, t in enumerate(state) if t],\n",
    "            np.array([False for _ in range(num_points)]),\n",
    "        )\n",
    "    )\n",
    "    return valid, -cost"
   ]
  },
  {
   "cell_type": "code",
   "execution_count": 386,
   "id": "6492337b-8429-472d-9c3e-c79c5b46da54",
   "metadata": {},
   "outputs": [
    {
     "name": "stdout",
     "output_type": "stream",
     "text": [
      "(0, 0)\n",
      "(30, -1)\n",
      "(59, -2)\n",
      "(72, -3)\n",
      "(84, -4)\n",
      "(89, -5)\n",
      "(91, -6)\n",
      "(95, -7)\n",
      "(97, -8)\n",
      "(99, -9)\n",
      "(100, -10)\n",
      "(100, -9)\n",
      "(100, -8)\n",
      "# steps:  10001\n"
     ]
    }
   ],
   "source": [
    "current_state = [choice([False for _ in range(num_points)]) for _ in range(num_sets)]\n",
    "cur_fit = fitness(current_state)\n",
    "print(fitness(current_state))\n",
    "steps = 1   # as number of evaluations\n",
    "\n",
    "# hill climbing\n",
    "for step in range(10_000):\n",
    "    new_state = tweak(current_state)\n",
    "    new_fit = fitness(new_state)\n",
    "    steps += 1\n",
    "    if new_fit > cur_fit:\n",
    "        current_state = new_state\n",
    "        cur_fit = new_fit\n",
    "        print(fitness(current_state))\n",
    "\n",
    "print(\"# steps: \",steps)"
   ]
  },
  {
   "cell_type": "code",
   "execution_count": 387,
   "id": "4b09e245",
   "metadata": {},
   "outputs": [
    {
     "name": "stdout",
     "output_type": "stream",
     "text": [
      "(0, 0)\n",
      "(42, -1)\n",
      "(68, -2)\n",
      "(82, -3)\n",
      "(90, -4)\n",
      "(96, -5)\n",
      "(99, -6)\n",
      "(100, -7)\n",
      "# steps:  2128\n"
     ]
    }
   ],
   "source": [
    "current_state = [choice([False for _ in range(num_points)]) for _ in range(num_sets)]\n",
    "cur_fit = fitness(current_state)\n",
    "print(fitness(current_state))\n",
    "steps = 1   # as number of evaluations\n",
    "\n",
    "# steepest hill climbing\n",
    "for step in range(100):\n",
    "    new_state = tweak(current_state)\n",
    "    new_fit = fitness(new_state)\n",
    "    steps += 1\n",
    "    for _ in range(20):\n",
    "        tmp_state = tweak(current_state)\n",
    "        tmp_fit = fitness(tmp_state)\n",
    "        steps += 1\n",
    "        if tmp_fit > new_fit:\n",
    "            new_state = tmp_state\n",
    "            new_fit = tmp_fit\n",
    "            steps += 1\n",
    "    if new_fit > cur_fit:\n",
    "        current_state = new_state\n",
    "        cur_fit = new_fit\n",
    "        steps += 1\n",
    "        print(fitness(current_state))\n",
    "\n",
    "print(\"# steps: \",steps)"
   ]
  },
  {
   "cell_type": "code",
   "execution_count": 388,
   "id": "fe99a39b",
   "metadata": {},
   "outputs": [],
   "source": [
    "def covered(state):\n",
    "    return reduce(\n",
    "        np.logical_or,\n",
    "        [SETS[i] for i, t in enumerate(state) if t],\n",
    "        np.array([False for _ in range(num_points)]),\n",
    "    )\n",
    "\n",
    "def goal_check(state):\n",
    "    return np.all(covered(state))"
   ]
  },
  {
   "cell_type": "code",
   "execution_count": 389,
   "id": "c2e4703a",
   "metadata": {},
   "outputs": [],
   "source": [
    "def path_search(state, n):  #greedy best-first (bounded)\n",
    "    frontier = PriorityQueue()\n",
    "    frontier.put((num_sets - np.sum(state), state))\n",
    "\n",
    "    counter = 0\n",
    "    _, current_state = frontier.get()\n",
    "    \n",
    "    while not goal_check(current_state) and counter<n:\n",
    "        counter += 1\n",
    "        for i, action in enumerate(current_state):\n",
    "            if action==False:\n",
    "                new_state = current_state\n",
    "                new_state[i] = True\n",
    "                frontier.put((num_sets - np.sum(new_state), new_state))\n",
    "        _, current_state = frontier.get()\n",
    "    return current_state\n",
    "\n",
    "def tweak(state):\n",
    "    max_steps = 5\n",
    "    new_state = path_search(state, max_steps)\n",
    "    #print(\"tweak\\t\",np.sum(state),np.sum(new_state))\n",
    "    return new_state"
   ]
  },
  {
   "cell_type": "code",
   "execution_count": 390,
   "id": "4c4a9e1e",
   "metadata": {},
   "outputs": [
    {
     "name": "stdout",
     "output_type": "stream",
     "text": [
      "(0, 0)\n",
      "(100, -100)\n",
      "# steps:  2102\n"
     ]
    }
   ],
   "source": [
    "max_steps = 10\n",
    "\n",
    "current_state = [choice([False for _ in range(num_points)]) for _ in range(num_sets)]\n",
    "\n",
    "cur_fit = fitness(current_state)\n",
    "print(fitness(current_state))\n",
    "steps = 1   # as number of evaluations\n",
    "\n",
    "# steepest hill climbing\n",
    "for step in range(100):\n",
    "    new_state = tweak(current_state)\n",
    "    new_fit = fitness(new_state)\n",
    "    steps += 1\n",
    "    for _ in range(20):\n",
    "        tmp_state = tweak(current_state)\n",
    "        tmp_fit = fitness(tmp_state)\n",
    "        steps += 1\n",
    "        if tmp_fit > new_fit:\n",
    "            new_state = tmp_state\n",
    "            new_fit = tmp_fit\n",
    "            steps += 1\n",
    "    if new_fit > cur_fit:\n",
    "        current_state = new_state\n",
    "        cur_fit = new_fit\n",
    "        steps += 1\n",
    "        print(fitness(current_state))\n",
    "\n",
    "print(\"# steps: \",steps)"
   ]
  }
 ],
 "metadata": {
  "kernelspec": {
   "display_name": "Python 3 (ipykernel)",
   "language": "python",
   "name": "python3"
  },
  "language_info": {
   "codemirror_mode": {
    "name": "ipython",
    "version": 3
   },
   "file_extension": ".py",
   "mimetype": "text/x-python",
   "name": "python",
   "nbconvert_exporter": "python",
   "pygments_lexer": "ipython3",
   "version": "3.11.0"
  }
 },
 "nbformat": 4,
 "nbformat_minor": 5
}
